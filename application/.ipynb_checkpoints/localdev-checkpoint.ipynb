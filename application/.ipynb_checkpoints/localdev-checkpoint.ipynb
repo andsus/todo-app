{
 "cells": [
  {
   "cell_type": "code",
   "execution_count": 2,
   "id": "36577d1b-be4e-4f9a-8cca-843c79c8746f",
   "metadata": {},
   "outputs": [
    {
     "name": "stdout",
     "output_type": "stream",
     "text": [
      "/Users/susantin/workplace/stratospheric/application\n"
     ]
    }
   ],
   "source": [
    "pwd"
   ]
  },
  {
   "cell_type": "markdown",
   "id": "a434e3dd-a0ab-41bc-aa25-480464a6be1e",
   "metadata": {},
   "source": [
    "SecurityGroup\n",
    "- all ingress - port 80\n",
    "  - add 2 inbound rule: https and http / port 443 and 80 source: custom 0.0.0.0/0\n",
    "- staging-loadbalancerSecurityGroup \n",
    "  - add 2 inbound rule: https and http / port 443 and 80 source: custom 0.0.0.0/0\n",
    "- staging-todo-app-Service-ServiceecsSecurityGroup\n",
    "  - add 1 inbound rule: custom 8080 from staging-loadbalancerSecurityGroup"
   ]
  },
  {
   "cell_type": "markdown",
   "id": "01546d8d-6eb7-41fd-85ed-2ab9239da586",
   "metadata": {},
   "source": [
    "- docker-compose -f docker-compose.yml up\n",
    "- gradle tasks\n",
    "- gradle bootRun\n",
    "- gradle build --continuous -xtest\n",
    "- gradle bootJar\n",
    "- [localhost:8080](http://localhost:8080/)\n",
    "- docker build -t stratospheric/todo-app-v1:latest .\n",
    "- docker image ls\n"
   ]
  },
  {
   "cell_type": "markdown",
   "id": "3a98f8f0-e0f8-4dd4-bba8-eb244700740b",
   "metadata": {},
   "source": [
    "- aws ecr get-login-password --region us-west-2 | docker login --username AWS --password-stdin 116416114016.dkr.ecr.us-west-2.amazonaws.com\n",
    "- docker build -t todo-app .\n",
    "- docker tag todo-app:latest 116416114016.dkr.ecr.us-west-2.amazonaws.com/todo-app:latest\n",
    "- docker push 116416114016.dkr.ecr.us-west-2.amazonaws.com/todo-app:latest\n",
    "- update cdk.json \"dockerImageUrl\": \"116416114016.dkr.ecr.us-west-2.amazonaws.com/todo-app:latest\"\n",
    "- on cdk:  npm run repository:deploy\n",
    "- npm run service:deploy\n",
    "- cdk.json:\n",
    "  - serviceApp refactor \"dockerImageUrl\": \"116416114016.dkr.ecr.us-west-2.amazonaws.com/todo-app:latest\"\n",
    "  - Service.DockerImageSource dockerImageSource = new Service.DockerImageSource(dockerRepositoryName, dockerImageTag)\n",
    "    - \"dockerRepositoryName\": \"todo-app\",\n",
    "    - \"dockerImageTag\": \"latest\",\n"
   ]
  },
  {
   "cell_type": "code",
   "execution_count": 2,
   "id": "6bceb8c9-39c4-4987-8c45-e05a6bccb481",
   "metadata": {},
   "outputs": [
    {
     "name": "stdout",
     "output_type": "stream",
     "text": [
      "Login Succeeded\n",
      "\n",
      "Logging in with your password grants your terminal complete access to your account. \n",
      "For better security, log in with a limited-privilege personal access token. Learn more at https://docs.docker.com/go/access-tokens/\n"
     ]
    }
   ],
   "source": [
    "aws ecr get-login-password --region us-west-2 | docker login --username AWS --password-stdin 116416114016.dkr.ecr.us-west-2.amazonaws.com"
   ]
  },
  {
   "cell_type": "code",
   "execution_count": 1,
   "id": "a505b288-ffc9-4ed7-819f-e11ade663e20",
   "metadata": {},
   "outputs": [
    {
     "name": "stdout",
     "output_type": "stream",
     "text": [
      "The push refers to repository [116416114016.dkr.ecr.us-west-2.amazonaws.com/todo-app]\n",
      "\n",
      "\u001b[1B414a37e5: Preparing \n",
      "\u001b[1Bf4a12a01: Preparing \n",
      "\u001b[1Bc224bcc6: Preparing \n",
      "\u001b[1B03114e6a: Preparing \n",
      "\u001b[5Blatest: digest: sha256:f6330f4339e0c7be6c7a76e6bf94da9738fc5d2fb37bbd794776a399099ab362 size: 1372\n"
     ]
    }
   ],
   "source": [
    "docker push 116416114016.dkr.ecr.us-west-2.amazonaws.com/todo-app:latest"
   ]
  },
  {
   "cell_type": "code",
   "execution_count": 1,
   "id": "4922c6eb-6b9a-46ce-89ef-83b116063ceb",
   "metadata": {},
   "outputs": [
    {
     "name": "stdout",
     "output_type": "stream",
     "text": [
      "/Users/susantin/workplace/stratospheric/application\n"
     ]
    }
   ],
   "source": [
    "pwd"
   ]
  },
  {
   "cell_type": "code",
   "execution_count": null,
   "id": "fc2ff25d-e897-420d-9beb-467a933cab55",
   "metadata": {},
   "outputs": [],
   "source": [
    "docker exec -it application-localstack-1 bash"
   ]
  }
 ],
 "metadata": {
  "kernelspec": {
   "display_name": "Bash",
   "language": "bash",
   "name": "bash"
  },
  "language_info": {
   "codemirror_mode": "shell",
   "file_extension": ".sh",
   "mimetype": "text/x-sh",
   "name": "bash"
  }
 },
 "nbformat": 4,
 "nbformat_minor": 5
}
